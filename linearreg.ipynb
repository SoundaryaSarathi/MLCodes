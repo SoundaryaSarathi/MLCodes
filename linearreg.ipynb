{
  "nbformat": 4,
  "nbformat_minor": 0,
  "metadata": {
    "colab": {
      "provenance": [],
      "collapsed_sections": [],
      "authorship_tag": "ABX9TyOMyJG3Tk1fO2zfVBOrGOP4",
      "include_colab_link": true
    },
    "kernelspec": {
      "name": "python3",
      "display_name": "Python 3"
    },
    "language_info": {
      "name": "python"
    }
  },
  "cells": [
    {
      "cell_type": "markdown",
      "metadata": {
        "id": "view-in-github",
        "colab_type": "text"
      },
      "source": [
        "<a href=\"https://colab.research.google.com/github/SoundaryaSarathi/MLCodes/blob/main/linearreg.ipynb\" target=\"_parent\"><img src=\"https://colab.research.google.com/assets/colab-badge.svg\" alt=\"Open In Colab\"/></a>"
      ]
    },
    {
      "cell_type": "code",
      "execution_count": null,
      "metadata": {
        "id": "QGWXwY7RenPG"
      },
      "outputs": [],
      "source": [
        "#linear regression using gradient descent\n",
        "import numpy as np\n",
        "from sklearn.model_selection import train_test_split\n",
        "from sklearn import datasets\n",
        "import matplotlib.pyplot as plt"
      ]
    },
    {
      "cell_type": "code",
      "source": [
        "class Linreg: \n",
        "    def __init__(self,n_features,n_samples,learning_rate=0.01,n_iters=1000):\n",
        "        self.lr = learning_rate\n",
        "        self.n_samples=n_samples\n",
        "        self.n_features=n_features \n",
        "        self.n_iters = n_iters\n",
        "        self.weights = np.zeros((1,n_features))\n",
        "        self.bias = 0 \n",
        "    \n",
        "    def y_predict(self,x):\n",
        "        return np.dot(self.weights,x.T)+self.bias\n",
        "    \n",
        "    def gradientdescent(self,x,error):\n",
        "        dw=(1/self.n_samples)*np.dot(error,x)\n",
        "        #print('dw:',dw,dw.shape)\n",
        "        db=(1/self.n_samples)*np.sum(error)\n",
        "        return dw,db\n",
        "        \n",
        "    def updateparam(self,dw,db):\n",
        "        self.weights-=self.lr*dw\n",
        "        self.bias-=self.lr*db\n",
        "   \n",
        "    def fit(self,x,y):\n",
        "      cost_list=[]\n",
        "      for i in range(self.n_iters):\n",
        "        y_predict=self.y_predict(x)\n",
        "        error=y_predict-y\n",
        "        cost=(1/2*self.n_samples)*(np.sum(np.square(error)))\n",
        "        dw,db=self.gradientdescent(x,error)\n",
        "        self.updateparam(dw,db)\n",
        "        cost_list.append(cost)\n",
        "      return cost_list\n",
        "\n",
        " "
      ],
      "metadata": {
        "id": "jbs4m8Qji0HI"
      },
      "execution_count": null,
      "outputs": []
    },
    {
      "cell_type": "code",
      "source": [
        "#generation\n",
        "x,y=datasets.make_regression(n_samples=100,n_features=2,noise=5)\n",
        "x_train, x_test, y_train, y_test = train_test_split(x, y, test_size=0.2, random_state=123)\n",
        "\n",
        "#normalize(x_train)\n",
        "#plotting\n",
        "#fig=plt.figure()\n",
        "#ax = plt.axes(projection =\"3d\")\n",
        "#ax.scatter3D(x_train[:,0],x_train[:,1],y_train)\n",
        "#plt.scatter(x_train,y_train)\n",
        "#plt.show()\n",
        "\n",
        "n_samples,n_features=x_train.shape\n",
        "print('y_train:',y_train)\n",
        "linreg=Linreg(n_features,n_samples,0.1,100)\n",
        "cost_list=linreg.fit(x_train,y_train)\n",
        "print('costlist: ',cost_list)\n",
        "print(\"weights,bias:\",linreg.weights,linreg.bias)\n",
        "\n"
      ],
      "metadata": {
        "colab": {
          "base_uri": "https://localhost:8080/"
        },
        "id": "5730LSbEgZEf",
        "outputId": "f3cb32f1-ee65-418d-a732-4f25fd754bcd"
      },
      "execution_count": null,
      "outputs": [
        {
          "output_type": "stream",
          "name": "stdout",
          "text": [
            "y_train: [  33.75341022   77.79638714   32.78841903   17.89671006    7.78115908\n",
            "   20.33035214   50.24173094   -9.64469725  -51.19595185  -11.633483\n",
            "    7.62358186  -28.59030673  -15.41708481   61.99772237  127.96906374\n",
            "   -4.4298641     2.75037467  -84.48799236   -0.96201682   72.63508877\n",
            "  -45.49353392   51.34235574    6.03524306    5.7851318    67.55145157\n",
            "   37.68878097 -104.54542243  135.55634188  -19.41593803   84.55621428\n",
            "  -70.33955858  -33.24401489   48.16225341  -93.69410547  -19.44802535\n",
            "  -65.94189721  -52.60608599   -6.96194052   57.66339667  -61.42257999\n",
            "  119.09968375  146.97400481   -6.83504732 -146.21598737  -36.35033509\n",
            "   18.43315097   -3.58567539   10.53828021  -60.30734421  -69.92396168\n",
            "  -92.96264155 -177.63325107   54.61577711  -78.58437861  -97.77680865\n",
            " -110.51433495  -76.54058626  -16.48703319  -14.83865548  -55.11559075\n",
            "   46.56851493   32.6710498   159.6819996    46.41520168   19.2732512\n",
            "  -52.67253371   24.96226667  -85.92391682  -35.52315849   14.29486504\n",
            "  -30.43397668   48.93470261   82.67250557    9.38895847   75.28297683\n",
            "  -27.15084089   15.59997023 -142.39989166   99.6364624    91.84590068]\n",
            "costlist:  [14986831.94156346, 12084638.793767931, 9747429.574197687, 7865208.093465585, 6349394.725039898, 5128656.255219763, 4145547.7832427323, 3353808.5310756043, 2716184.2211086033, 2202673.4800430834, 1789115.6971481517, 1456053.8455756106, 1187818.7241167224, 971791.5036483953, 797809.8587232997, 657689.7258098884, 544840.1740507892, 453953.2585185967, 380754.256297183, 321800.5285766431, 274319.54120925046, 236078.4196441373, 205278.89865434993, 180472.7226982469, 160493.5154101876, 144401.91192236997, 131441.37198212813, 121002.5945400884, 112594.8593133832, 105822.94683445217, 100368.55102802334, 95975.3097760961, 92436.74918583152, 89586.57438285922, 87290.85006664364, 85441.70298252502, 83952.25007216152, 82752.5137307196, 81786.1320394141, 81007.70924155362, 80380.68184921733, 79875.60002348095, 79468.74340517743, 79141.00630473785, 78876.99982895562, 78664.32872569092, 78493.0089446596, 78354.99853013421, 78243.81979099197, 78154.25498578954, 78082.10121737016, 78023.97301552405, 77977.14332838652, 77939.4154490448, 77909.01985816544, 77884.53113475561, 77864.80103052338, 77848.90456306779, 77836.09659504294, 77825.7768592729, 77817.46178672457, 77810.76181393687, 77805.36310398676, 77801.01282245341, 77797.50727687121, 77794.68236269304, 77792.40586713707, 77790.57126956558, 77789.0927473357, 77787.9011526801, 77786.94077177637, 77786.16671389782, 77785.54280812023, 77785.039908892, 77784.63453096792, 77784.30774966907, 77784.04431488339, 77783.83193725442, 77783.66071308407, 77783.52266098597, 77783.41134856737, 77783.32159164084, 77783.2492118701, 77783.19084149388, 77783.1437659786, 77783.10579723133, 77783.07517143339, 77783.05046671355, 77783.03053680436, 77783.01445757881, 77783.00148396456, 77782.99101522056, 77782.98256695215, 77782.97574855652, 77782.97024504344, 77782.96580238274, 77782.96221569378, 77782.95931972467, 77782.95698117791, 77782.9550925235]\n",
            "weights,bias: [[ 5.48728184 67.16474397]] -0.5822036837350865\n"
          ]
        }
      ]
    },
    {
      "cell_type": "code",
      "source": [
        "\n",
        "#illustrating addition of vector to a scalar\n",
        "w=np.array([[1,1],[2,2]])\n",
        "z=w+3\n",
        "print(z)\n",
        "\n"
      ],
      "metadata": {
        "colab": {
          "base_uri": "https://localhost:8080/"
        },
        "id": "Ug46Zr2zBm2T",
        "outputId": "18606101-dcc4-4bc7-e15f-8f64a963f481"
      },
      "execution_count": null,
      "outputs": [
        {
          "output_type": "stream",
          "name": "stdout",
          "text": [
            "[[4 4]\n",
            " [5 5]]\n"
          ]
        }
      ]
    },
    {
      "cell_type": "code",
      "source": [
        "import numpy as np\n",
        "a = np.array([5,4])[np.newaxis]\n",
        "print(a)\n",
        "print(a.T)\n"
      ],
      "metadata": {
        "colab": {
          "base_uri": "https://localhost:8080/"
        },
        "id": "M3zoc68iLdiS",
        "outputId": "a0558c98-6757-4459-936d-54d6a6815683"
      },
      "execution_count": null,
      "outputs": [
        {
          "output_type": "stream",
          "name": "stdout",
          "text": [
            "[[5 4]]\n",
            "[[5]\n",
            " [4]]\n"
          ]
        }
      ]
    }
  ]
}